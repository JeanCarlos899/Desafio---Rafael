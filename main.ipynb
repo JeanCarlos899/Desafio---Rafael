{
 "cells": [
  {
   "cell_type": "code",
   "execution_count": 2,
   "metadata": {},
   "outputs": [],
   "source": [
    "import torch\n",
    "from torch.utils.data import DataLoader, Dataset\n",
    "from transformers import BertTokenizer, BertForSequenceClassification, AdamW\n",
    "from sklearn.metrics import classification_report\n",
    "import pandas as pd\n",
    "import numpy as np\n",
    "from tqdm import tqdm"
   ]
  },
  {
   "cell_type": "code",
   "execution_count": 3,
   "metadata": {},
   "outputs": [
    {
     "name": "stdout",
     "output_type": "stream",
     "text": [
      "Dispositivo em uso: cuda\n"
     ]
    }
   ],
   "source": [
    "device = torch.device(\"cuda\" if torch.cuda.is_available() else \"cpu\")\n",
    "print(f\"Dispositivo em uso: {device}\")"
   ]
  },
  {
   "cell_type": "code",
   "execution_count": 4,
   "metadata": {},
   "outputs": [
    {
     "name": "stderr",
     "output_type": "stream",
     "text": [
      "c:\\Users\\jeanc\\Desktop\\Desafio - Rafael\\env\\Lib\\site-packages\\transformers\\tokenization_utils_base.py:1601: FutureWarning: `clean_up_tokenization_spaces` was not set. It will be set to `True` by default. This behavior will be depracted in transformers v4.45, and will be then set to `False` by default. For more details check this issue: https://github.com/huggingface/transformers/issues/31884\n",
      "  warnings.warn(\n"
     ]
    }
   ],
   "source": [
    "tokenizer = BertTokenizer.from_pretrained(\n",
    "    'neuralmind/bert-base-portuguese-cased')"
   ]
  },
  {
   "cell_type": "code",
   "execution_count": 5,
   "metadata": {},
   "outputs": [],
   "source": [
    "def load_data(file_path):\n",
    "    return pd.read_json(file_path, lines=True)"
   ]
  },
  {
   "cell_type": "code",
   "execution_count": 6,
   "metadata": {},
   "outputs": [],
   "source": [
    "def read_data(set):\n",
    "    return pd.read_csv(set)"
   ]
  },
  {
   "cell_type": "code",
   "execution_count": 8,
   "metadata": {},
   "outputs": [],
   "source": [
    "class PunDataset(Dataset):\n",
    "    def __init__(self, texts, labels, tokenizer, max_len):\n",
    "        self.texts = texts\n",
    "        self.labels = labels\n",
    "        self.tokenizer = tokenizer\n",
    "        self.max_len = max_len\n",
    "\n",
    "    def __len__(self):\n",
    "        return len(self.texts)\n",
    "\n",
    "    def __getitem__(self, idx):\n",
    "        text = self.texts[idx]\n",
    "        label = self.labels[idx]\n",
    "\n",
    "        encoding = self.tokenizer.encode_plus(\n",
    "            text,\n",
    "            add_special_tokens=True,\n",
    "            max_length=self.max_len,\n",
    "            return_token_type_ids=False,\n",
    "            padding='max_length',\n",
    "            truncation=True,\n",
    "            return_attention_mask=True,\n",
    "            return_tensors='pt'\n",
    "        )\n",
    "\n",
    "        return {\n",
    "            'text': text,\n",
    "            'input_ids': encoding['input_ids'].flatten(),\n",
    "            'attention_mask': encoding['attention_mask'].flatten(),\n",
    "            'label': torch.tensor(label, dtype=torch.long)\n",
    "        }"
   ]
  },
  {
   "cell_type": "code",
   "execution_count": 9,
   "metadata": {},
   "outputs": [],
   "source": [
    "def create_data_loader(df, tokenizer, max_len, batch_size):\n",
    "    ds = PunDataset(\n",
    "        texts=df['text'].to_numpy(),\n",
    "        labels=df['label'].to_numpy() if 'label' in df else np.zeros(len(df)),\n",
    "        tokenizer=tokenizer,\n",
    "        max_len=max_len\n",
    "    )\n",
    "    return DataLoader(ds, batch_size=batch_size, num_workers=4)"
   ]
  },
  {
   "cell_type": "code",
   "execution_count": 10,
   "metadata": {},
   "outputs": [],
   "source": [
    "def train_epoch(model, data_loader, optimizer, device):\n",
    "    model = model.train()\n",
    "    losses = []\n",
    "    correct_predictions = 0\n",
    "\n",
    "    # Utilizando tqdm para exibir progresso\n",
    "    for d in tqdm(data_loader, desc=\"Treinando\"):\n",
    "        input_ids = d[\"input_ids\"].to(device)\n",
    "        attention_mask = d[\"attention_mask\"].to(device)\n",
    "        labels = d[\"label\"].to(device)\n",
    "\n",
    "        outputs = model(\n",
    "            input_ids=input_ids,\n",
    "            attention_mask=attention_mask,\n",
    "            labels=labels\n",
    "        )\n",
    "\n",
    "        loss = outputs.loss\n",
    "        preds = torch.argmax(outputs.logits, dim=1)\n",
    "\n",
    "        correct_predictions += torch.sum(preds == labels)\n",
    "        losses.append(loss.item())\n",
    "\n",
    "        loss.backward()\n",
    "        optimizer.step()\n",
    "        optimizer.zero_grad()\n",
    "\n",
    "    return correct_predictions.double() / len(data_loader.dataset), np.mean(losses)"
   ]
  },
  {
   "cell_type": "code",
   "execution_count": 11,
   "metadata": {},
   "outputs": [],
   "source": [
    "\n",
    "def eval_model(model, data_loader, device):\n",
    "    model = model.eval()\n",
    "    correct_predictions = 0\n",
    "    losses = []\n",
    "\n",
    "    with torch.no_grad():\n",
    "        for d in tqdm(data_loader, desc=\"Avaliando\"):\n",
    "            input_ids = d[\"input_ids\"].to(device)\n",
    "            attention_mask = d[\"attention_mask\"].to(device)\n",
    "            labels = d[\"label\"].to(device)\n",
    "\n",
    "            outputs = model(\n",
    "                input_ids=input_ids,\n",
    "                attention_mask=attention_mask,\n",
    "                labels=labels\n",
    "            )\n",
    "\n",
    "            loss = outputs.loss\n",
    "            preds = torch.argmax(outputs.logits, dim=1)\n",
    "\n",
    "            correct_predictions += torch.sum(preds == labels)\n",
    "            losses.append(loss.item())\n",
    "\n",
    "    return correct_predictions.double() / len(data_loader.dataset), np.mean(losses)"
   ]
  },
  {
   "cell_type": "code",
   "execution_count": 12,
   "metadata": {},
   "outputs": [],
   "source": [
    "\n",
    "def predict(model, data_loader, device):\n",
    "    model = model.eval()\n",
    "    texts = []\n",
    "    predictions = []\n",
    "    real_values = []\n",
    "\n",
    "    with torch.no_grad():\n",
    "        for d in tqdm(data_loader, desc=\"Fazendo Predições\"):\n",
    "            texts.extend(d[\"text\"])\n",
    "            input_ids = d[\"input_ids\"].to(device)\n",
    "            attention_mask = d[\"attention_mask\"].to(device)\n",
    "            labels = d[\"label\"].to(device)\n",
    "\n",
    "            outputs = model(\n",
    "                input_ids=input_ids,\n",
    "                attention_mask=attention_mask\n",
    "            )\n",
    "            preds = torch.argmax(outputs.logits, dim=1)\n",
    "\n",
    "            # Mover os tensores para a CPU antes de convertê-los em listas\n",
    "            predictions.extend(preds.cpu().numpy())  # Convertendo para NumPy\n",
    "            real_values.extend(labels.cpu().numpy())  # Convertendo para NumPy\n",
    "\n",
    "    return predictions, real_values"
   ]
  },
  {
   "cell_type": "code",
   "execution_count": 13,
   "metadata": {},
   "outputs": [],
   "source": [
    "\n",
    "def create_submission_file(df_test, predictions):\n",
    "    df = pd.DataFrame(columns=['id', 'label'])\n",
    "    df['id'] = df_test['id']\n",
    "    df['label'] = predictions\n",
    "    df.to_csv('submission.csv', index=False)"
   ]
  },
  {
   "cell_type": "code",
   "execution_count": 14,
   "metadata": {},
   "outputs": [
    {
     "name": "stderr",
     "output_type": "stream",
     "text": [
      "Some weights of BertForSequenceClassification were not initialized from the model checkpoint at neuralmind/bert-base-portuguese-cased and are newly initialized: ['classifier.bias', 'classifier.weight']\n",
      "You should probably TRAIN this model on a down-stream task to be able to use it for predictions and inference.\n"
     ]
    },
    {
     "name": "stdout",
     "output_type": "stream",
     "text": [
      "Epoch 1/1\n"
     ]
    },
    {
     "name": "stderr",
     "output_type": "stream",
     "text": [
      "Treinando:   0%|          | 0/998 [00:00<?, ?it/s]"
     ]
    }
   ],
   "source": [
    "if __name__ == \"__main__\":\n",
    "    # Carregar o modelo do BERTimbau para classificação\n",
    "    model = BertForSequenceClassification.from_pretrained(\n",
    "        'neuralmind/bert-base-portuguese-cased', num_labels=2)\n",
    "    model = model.to(device)\n",
    "\n",
    "    # Carregar e preparar os dados\n",
    "    df_train = load_data('train.jsonl')\n",
    "    df_val = load_data('validation.jsonl')\n",
    "\n",
    "    # Hiperparâmetros\n",
    "    BATCH_SIZE = 4  # Ajustando para batch menor\n",
    "    MAX_LEN = 128\n",
    "    EPOCHS = 1\n",
    "    LEARNING_RATE = 2e-5\n",
    "\n",
    "    # Criar DataLoaders\n",
    "    train_data_loader = create_data_loader(\n",
    "        df_train, tokenizer, MAX_LEN, BATCH_SIZE)\n",
    "    val_data_loader = create_data_loader(\n",
    "        df_val, tokenizer, MAX_LEN, BATCH_SIZE)\n",
    "\n",
    "    # Otimizador\n",
    "    optimizer = AdamW(model.parameters(), lr=LEARNING_RATE,\n",
    "                      no_deprecation_warning=True)  # Ajuste para suprimir o aviso\n",
    "\n",
    "    # Treinamento\n",
    "    for epoch in range(EPOCHS):\n",
    "        print(f'Epoch {epoch + 1}/{EPOCHS}')\n",
    "        train_acc, train_loss = train_epoch(\n",
    "            model, train_data_loader, optimizer, device)\n",
    "        val_acc, val_loss = eval_model(model, val_data_loader, device)\n",
    "\n",
    "        print(f'Train Loss: {train_loss} | Train Acc: {train_acc}')\n",
    "        print(f'Val Loss: {val_loss} | Val Acc: {val_acc}')\n",
    "\n",
    "    # Avaliação final no conjunto de validação\n",
    "    val_preds, val_labels = predict(model, val_data_loader, device)\n",
    "\n",
    "    # Relatório de classificação usando as predições e os valores reais\n",
    "    print(\"\\nRelatório de Classificação (Conjunto de Validação):\")\n",
    "    print(classification_report(val_labels, val_preds))\n",
    "\n",
    "    # Carregar conjunto de teste (test.csv)\n",
    "    df_test = read_data('test.csv')\n",
    "\n",
    "    # Criar DataLoader para o conjunto de teste\n",
    "    test_data_loader = create_data_loader(\n",
    "        df_test, tokenizer, MAX_LEN, BATCH_SIZE)\n",
    "\n",
    "    # Fazer predições no conjunto de teste\n",
    "    test_preds, _ = predict(model, test_data_loader, device)\n",
    "\n",
    "    # Gerar arquivo de submissão\n",
    "    create_submission_file(df_test, test_preds)\n",
    "    print(\"Arquivo de submissão gerado: submission.csv\")"
   ]
  }
 ],
 "metadata": {
  "kernelspec": {
   "display_name": "env",
   "language": "python",
   "name": "python3"
  },
  "language_info": {
   "codemirror_mode": {
    "name": "ipython",
    "version": 3
   },
   "file_extension": ".py",
   "mimetype": "text/x-python",
   "name": "python",
   "nbconvert_exporter": "python",
   "pygments_lexer": "ipython3",
   "version": "3.11.2"
  }
 },
 "nbformat": 4,
 "nbformat_minor": 2
}
